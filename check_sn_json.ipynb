{
 "cells": [
  {
   "cell_type": "code",
   "execution_count": 1,
   "id": "aa4e636c-63fb-4ec0-9966-2b5306011d1c",
   "metadata": {},
   "outputs": [],
   "source": [
    "import requests\n",
    "import pandas as pd\n",
    "import geopandas\n",
    "from bs4 import BeautifulSoup\n",
    "\n",
    "\n",
    "\n",
    "pd.set_option('display.max_colwidth', 200)\n",
    "headers = {'User-Agent': 'Mozilla/5.0 (Macintosh; Intel Mac OS X 10_11_5) AppleWebKit/537.36 (KHTML, like Gecko) Chrome/50.0.2661.102 Safari/537.36'}\n",
    "import urllib3\n",
    "\n",
    "urllib3.disable_warnings(urllib3.exceptions.InsecureRequestWarning)"
   ]
  },
  {
   "cell_type": "code",
   "execution_count": 5,
   "metadata": {},
   "outputs": [],
   "source": []
  },
  {
   "cell_type": "code",
   "execution_count": null,
   "id": "5074a27e-7389-44c6-81a3-e5c6a7011c67",
   "metadata": {},
   "outputs": [],
   "source": [
    "\n",
    "interviste = geopandas.read_file(\"https://maps.nicoladeinnocentis.it/storie-napoli-map/src/interviste.json\")\n",
    "eccellenze = geopandas.read_file(\"https://maps.nicoladeinnocentis.it/storie-napoli-map/src/eccellenze.json\")\n",
    "cucina = geopandas.read_file(\"https://maps.nicoladeinnocentis.it/storie-napoli-map/src/cucina.json\")\n",
    "curiosita = geopandas.read_file(\"https://maps.nicoladeinnocentis.it/storie-napoli-map/src/curiosita.json\")\n",
    "leggende = geopandas.read_file(\"https://maps.nicoladeinnocentis.it/storie-napoli-map/src/leggende.json\")\n",
    "personaggi = geopandas.read_file(\"https://maps.nicoladeinnocentis.it/storie-napoli-map/src/personaggi.json\")\n",
    "luoghi = geopandas.read_file(\"https://maps.nicoladeinnocentis.it/storie-napoli-map/src/luoghi.json\")\n",
    "\n"
   ]
  },
  {
   "cell_type": "code",
   "execution_count": 17,
   "id": "3dbca286-b4b7-4b4f-ac35-e817cc9a17bf",
   "metadata": {},
   "outputs": [],
   "source": [
    "luoghi = geopandas.read_file(\"luoghi.json\")\n"
   ]
  },
  {
   "cell_type": "code",
   "execution_count": 2,
   "metadata": {},
   "outputs": [],
   "source": [
    "\n",
    "\n",
    "def get_ogr_image(url):\n",
    "    # Effettua la richiesta HTTP per ottenere il contenuto della pagina\n",
    "    response = requests.get(url,headers=headers,verify=False)\n",
    "    html_content = response.text\n",
    "\n",
    "    # Parsing dell'HTML con BeautifulSoup\n",
    "    soup = BeautifulSoup(html_content, 'html.parser')\n",
    "\n",
    "    # Trova il tag meta con attributo property=\"og:image\"\n",
    "    og_image_tag = soup.find('meta', attrs={'property': 'og:image'})\n",
    "\n",
    "    # Estrai l'URL dell'immagine\n",
    "    if og_image_tag and 'content' in og_image_tag.attrs:\n",
    "        image_url = og_image_tag['content']\n",
    "        \n",
    "    else:\n",
    "        image_url=''\n",
    "    return image_url\n",
    "        \n"
   ]
  },
  {
   "attachments": {},
   "cell_type": "markdown",
   "id": "75f383b0",
   "metadata": {},
   "source": [
    "# Get OGR Image"
   ]
  },
  {
   "cell_type": "code",
   "execution_count": 3,
   "id": "9688a340",
   "metadata": {},
   "outputs": [
    {
     "data": {
      "text/plain": [
       "'https://storienapoli.it/wp-content/uploads/2023/07/Copia-di-copertine-articoli-56.jpg'"
      ]
     },
     "execution_count": 3,
     "metadata": {},
     "output_type": "execute_result"
    }
   ],
   "source": [
    "url='https://storienapoli.it/2023/07/05/biblioteca-dei-girolamini-a-napoli/'\n",
    "get_ogr_image(url)"
   ]
  },
  {
   "cell_type": "code",
   "execution_count": 5,
   "metadata": {},
   "outputs": [],
   "source": [
    "def change_img(df):\n",
    "    count=0\n",
    "    for i,row in df.iterrows():\n",
    "        img=row['img']\n",
    "        url=row['url']\n",
    "        if img == '' or requests.get(img, headers=headers,verify=False).status_code != 200:\n",
    "            image_url=get_ogr_image(url)\n",
    "            df.loc[df['img'] == img, 'img'] = image_url        \n",
    "            count=count+1\n",
    "    if count==0:\n",
    "        print('Nessun Url corrotto')"
   ]
  },
  {
   "cell_type": "code",
   "execution_count": 6,
   "id": "56946703-210e-4a28-a28b-dbf2701997ab",
   "metadata": {},
   "outputs": [],
   "source": [
    "def check_url(df,urls):\n",
    "    count=0\n",
    "    for url in urls:\n",
    "        response=requests.get(url, headers=headers,verify=False)\n",
    "        if ((response.url=='https://storienapoli.it') | (response.status_code != 200)):\n",
    "            #print('URL NOT OK: '+ url)\n",
    "            display(df[df.url==url])\n",
    "            count=count+1\n",
    "    if count==0:\n",
    "        print('Nessun Url corrotto')\n"
   ]
  },
  {
   "cell_type": "code",
   "execution_count": 7,
   "metadata": {},
   "outputs": [],
   "source": [
    "def check_img(df):\n",
    "    count=0\n",
    "    for img in df.img:\n",
    "        if(img==''):\n",
    "            selection=df[df['img']==img]\n",
    "            display(selection[['titolo', 'img']])\n",
    "            count=count+1\n",
    "        elif (requests.get(img, headers=headers,verify=False).status_code != 200):\n",
    "            selection=df[df['img']==img]\n",
    "            display(selection[['titolo', 'url','img']])\n",
    "            count=count+1\n",
    "    if count==0:\n",
    "        print('Nessun Url corrotto')\n",
    "\n",
    "        "
   ]
  },
  {
   "attachments": {},
   "cell_type": "markdown",
   "metadata": {},
   "source": [
    "# Check_url"
   ]
  },
  {
   "cell_type": "code",
   "execution_count": 32,
   "id": "4e5b2432-785c-42ee-8a90-f3d043fb2ad5",
   "metadata": {},
   "outputs": [
    {
     "name": "stdout",
     "output_type": "stream",
     "text": [
      "Nessun Url corrotto\n"
     ]
    }
   ],
   "source": [
    "check_url(luoghi,luoghi.url)"
   ]
  },
  {
   "cell_type": "code",
   "execution_count": 27,
   "metadata": {},
   "outputs": [],
   "source": [
    "luoghi.loc[262,'url']='https://storienapoli.it/2021/11/13/fontana-degli-incanti-coccovaja-magica/'\n"
   ]
  },
  {
   "attachments": {},
   "cell_type": "markdown",
   "metadata": {},
   "source": [
    "### Nel caso bisogna droppare storie epr unon specifico autore"
   ]
  },
  {
   "cell_type": "code",
   "execution_count": 19,
   "metadata": {},
   "outputs": [],
   "source": [
    "import numpy as np\n",
    "luoghi=luoghi.drop(np.where(luoghi.author=='Francesco Li Volti')[0])"
   ]
  },
  {
   "cell_type": "code",
   "execution_count": 31,
   "metadata": {},
   "outputs": [],
   "source": [
    "luoghi=luoghi.drop([281])"
   ]
  },
  {
   "cell_type": "code",
   "execution_count": 24,
   "metadata": {},
   "outputs": [],
   "source": [
    "luoghi.loc[31,'url']='https://storienapoli.it/2022/06/02/galleria-umberto-i-napoli/'\n",
    "luoghi.loc[47,'url']='https://storienapoli.it/2020/02/22/lantico-teatro-ex-odeon-a-mergellina/'\n",
    "luoghi.loc[50,'url']='https://storienapoli.it/2019/12/26/anfiteatro-santa-maria-capua-vetere/'\n",
    "luoghi.loc[55,'url']='https://storienapoli.it/2019/12/15/luci-dartista-di-salerno/'\n",
    "luoghi.loc[59,'url']='https://storienapoli.it/2020/09/18/storia-borgo-di-antignano-vomero/'\n",
    "luoghi.loc[59,'author']='Chiara Sarracino'\n",
    "luoghi.loc[70,'url']='https://storienapoli.it/2019/02/26/anfiteatro-flavio-pozzuoli/'\n",
    "luoghi.loc[74,'url']='https://storienapoli.it/2018/11/07/palazzo-zevallos-stigliano-storia/'\n",
    "luoghi.loc[82,'url']='https://storienapoli.it/2018/08/01/misericordiella-chiesa-nella-sanita/'\n",
    "luoghi.loc[107,'url']='https://storienapoli.it/2018/04/27/real-orto-botanico-napoli-storia/'\n",
    "luoghi.loc[125,'url']='https://storienapoli.it/2017/09/20/quando-rotonda-diaz-era-san-leonardo/'\n",
    "luoghi.loc[131,'url']='https://storienapoli.it/2017/07/08/officina-dei-papiri-napoli/'\n",
    "luoghi.loc[134,'url']='https://storienapoli.it/2017/06/17/leoni-piazza-dei-martiri-storia/'\n",
    "luoghi.loc[135,'url']='https://storienapoli.it/2022/11/23/chiesa-dellascensione-chiaia/'\n",
    "luoghi.loc[137,'url']='https://storienapoli.it/2017/05/26/vico-limoncello/'\n",
    "luoghi.loc[156,'url']='https://storienapoli.it/2020/03/18/primo-miracolo-di-san-gennaro-vomero/'\n",
    "luoghi.loc[166,'url']='https://storienapoli.it/2016/07/03/caserma-dei-pompieri-napoli/'\n",
    "luoghi.loc[171,'url']='https://storienapoli.it/2016/05/24/giardino-di-babuk-ipogei-sanita/'\n",
    "luoghi.loc[175,'url']='https://storienapoli.it/2016/05/02/villa-floridiana-cuore-verde-del-vomero/'\n",
    "luoghi.loc[176,'url']='https://storienapoli.it/2016/04/20/fontana-del-nettuno-piazza-municipio/'\n",
    "luoghi.loc[181,'url']='https://storienapoli.it/2016/03/21/va-vasa-pesce-san-rafele-tradizione/'\n",
    "luoghi.loc[182,'url']='https://storienapoli.it/2020/11/20/tavola-strozzi-napoli-aragonese/'\n",
    "luoghi.loc[183,'url']='https://storienapoli.it/2016/03/19/lo-sferisterio-di-fuorigrotta/'\n",
    "luoghi.loc[185,'url']='https://storienapoli.it/2016/03/17/stadio-diego-armando-maradona-storia/'\n",
    "luoghi.loc[186,'url']='https://storienapoli.it/2016/03/16/santa-maria-francesca-fertilita/'\n",
    "luoghi.loc[187,'url']='https://storienapoli.it/2016/03/15/madonna-di-costantinopoli-napoli/'\n",
    "luoghi.loc[189,'url']='https://storienapoli.it/2016/03/09/napoli-portici-prima-ferrovia-italia/'\n",
    "luoghi.loc[200,'url']='https://storienapoli.it/2016/01/09/ponte-della-sanita-storia/'\n",
    "luoghi.loc[204,'url']='https://storienapoli.it/2015/12/05/equazione-del-tempo-piazza-dante/'\n",
    "luoghi.loc[207,'url']='https://storienapoli.it/2015/11/19/casa-armando-diaz-segreto-via-correra/'\n",
    "luoghi.loc[212,'url']='https://storienapoli.it/2015/10/13/liceo-sannazaro-napoli-storia/'\n",
    "luoghi.loc[218,'url']='https://storienapoli.it/2019/11/18/ponti-rossi-acquedotto-romano/'\n",
    "luoghi.loc[221,'url']='https://storienapoli.it/2015/08/18/necropoli-di-pizzofalcone/'\n",
    "luoghi.loc[226,'url']='https://storienapoli.it/2015/07/26/santanna-alle-paludi-napoli-festa/'\n",
    "luoghi.loc[233,'url']='https://storienapoli.it/2015/06/23/santa-maria-regina-coeli-napoli/'\n",
    "luoghi.loc[236,'url']='https://storienapoli.it/2022/01/07/san-gennaro-nellanfiteatro-pozzuoli/'\n",
    "luoghi.loc[239,'url']='https://storienapoli.it/2015/05/25/museo-di-paleontologia-napoli/'\n",
    "luoghi.loc[240,'url']='https://storienapoli.it/2021/06/16/real-stabilimento-dedicato-a-san-francesco-di-sales/'\n",
    "luoghi.loc[241,'url']='https://storienapoli.it/2015/05/22/simboli-del-portone-federico-ii-napoli/'\n",
    "luoghi.loc[242,'url']='https://storienapoli.it/2015/05/20/tomba-di-agrippina-bacoli-fantasma/'\n",
    "luoghi.loc[243,'url']='https://storienapoli.it/2015/05/18/museo-di-mineralogia-napoli/'\n",
    "luoghi.loc[248,'url']='https://storienapoli.it/2017/04/29/la-madonna-nera-e-piazzetta-pietrasanta/'\n",
    "luoghi.loc[250,'url']='https://storienapoli.it/2015/04/29/baia-baiae-antichi-romani/'\n",
    "luoghi.loc[256,'url']='https://storienapoli.it/2015/04/13/palazzo-cellammare-storia-nobili/'\n",
    "luoghi.loc[259,'url']='https://storienapoli.it/2015/04/01/capo-miseno-leggenda-storia-nome/'\n",
    "luoghi.loc[260,'url']='https://storienapoli.it/2015/03/28/la-prima-tomba-di-leopardi-san-vitale/'\n",
    "luoghi.loc[264,'url']='https://storienapoli.it/2021/11/13/fontana-degli-incanti-coccovaja-magica/'\n",
    "luoghi.loc[265,'url']='https://storienapoli.it/2015/03/18/via-chiaia-era-il-letto-di-un-fiume/'\n",
    "luoghi.loc[267,'url']='https://storienapoli.it/2015/03/15/stele-di-piazza-pilastri-fuorigrotta/'\n",
    "luoghi.loc[269,'url']='https://storienapoli.it/2020/12/04/piscina-mirabilis-cisterna-bacoli/'\n",
    "luoghi.loc[273,'url']='https://storienapoli.it/2015/02/06/qui-rido-io-villa-santarella-scarpetta/'\n",
    "luoghi.loc[275,'url']='https://storienapoli.it/2015/01/28/duomo-di-napoli-storia/'\n",
    "luoghi.loc[277,'url']='https://storienapoli.it/2023/04/18/giardino-dei-semplici-napoli-ospedale/'\n",
    "luoghi.loc[284,'url']='https://storienapoli.it/2015/01/15/salvator-rosa-rovine-romane-vomero/'\n",
    "luoghi.loc[285,'url']='https://storienapoli.it/2020/09/24/giovanni-passannante-attentato-umberto/'\n",
    "luoghi.loc[293,'url']='https://storienapoli.it/2014/12/07/festa-della-cuccagna-piazza-plebiscito/'\n",
    "luoghi.loc[295,'url']='https://storienapoli.it/2014/12/06/i-palafrenieri-nella-porta-dello-zar/'\n",
    "luoghi.loc[300,'url']='https://storienapoli.it/2021/05/18/la-basilica-di-santa-maria-del-carmine/'\n",
    "luoghi.loc[302,'url']='https://storienapoli.it/2014/12/06/rione-santa-lucia-borbone/'\n",
    "luoghi.loc[305,'url']='https://storienapoli.it/2014/12/06/marianna-capa-e-napule-testa-mercato/'\n",
    "luoghi.loc[312,'url']='https://storienapoli.it/2014/12/06/il-chiostro-di-santa-chiara-maiolicato/'\n",
    "luoghi.loc[316,'url']='https://storienapoli.it/2021/09/04/san-pietro-a-majella-napoli/'\n",
    "luoghi.loc[316,'author']='Roberto Iossa'\n",
    "luoghi.loc[320,'url']='https://storienapoli.it/2020/12/09/piazza-san-gaetano-napoli-storia/'\n",
    "luoghi.loc[338,'url']='https://storienapoli.it/2020/11/27/statua-dio-nilo-piazza-nilo-napoli/'\n",
    "luoghi.loc[357,'url']='https://storienapoli.it/2020/10/29/villa-marittima-di-minori-costiera/'\n",
    "luoghi.loc[361,'url']='https://storienapoli.it/2020/11/07/pagani-nome-citta/'\n",
    "luoghi.loc[372,'url']='https://storienapoli.it/2020/11/30/villa-di-poggioreale-napoli-sparita/'\n",
    "luoghi.loc[659,'url']='https://storienapoli.it/2022/08/21/carcere-di-nisida/'\n"
   ]
  },
  {
   "attachments": {},
   "cell_type": "markdown",
   "metadata": {},
   "source": [
    "# Change Image"
   ]
  },
  {
   "cell_type": "code",
   "execution_count": 33,
   "metadata": {},
   "outputs": [],
   "source": [
    "change_img(luoghi)"
   ]
  },
  {
   "attachments": {},
   "cell_type": "markdown",
   "id": "6332d313-715e-41a3-a9b6-3fd49c631a75",
   "metadata": {},
   "source": [
    "# Check Immagini"
   ]
  },
  {
   "cell_type": "code",
   "execution_count": 34,
   "id": "80514eb1-e2f5-4ab0-8cdd-a786422b6205",
   "metadata": {},
   "outputs": [
    {
     "name": "stdout",
     "output_type": "stream",
     "text": [
      "Nessun Url corrotto\n"
     ]
    }
   ],
   "source": [
    "check_img(luoghi)\n"
   ]
  },
  {
   "attachments": {},
   "cell_type": "markdown",
   "metadata": {},
   "source": [
    "Nel caso in cui trova ancora qualche immagine non cambiata"
   ]
  },
  {
   "cell_type": "code",
   "execution_count": 136,
   "metadata": {},
   "outputs": [],
   "source": [
    "luoghi.loc[249,'img'] = 'https://storienapoli.it/wp-content/uploads/2021/08/San-Gennaro-nellanfiteatro-4.jpg'"
   ]
  },
  {
   "attachments": {},
   "cell_type": "markdown",
   "metadata": {},
   "source": [
    "# Save JSON file"
   ]
  },
  {
   "cell_type": "code",
   "execution_count": 35,
   "metadata": {},
   "outputs": [],
   "source": [
    "luoghi.to_file('luoghi.json')"
   ]
  },
  {
   "cell_type": "code",
   "execution_count": null,
   "id": "43eb4ea5",
   "metadata": {},
   "outputs": [],
   "source": []
  }
 ],
 "metadata": {
  "interpreter": {
   "hash": "1ed5dfbb40e69f6820180167cf943bf9a9d34a47fb6075672b69f2e34d7f4e50"
  },
  "kernelspec": {
   "display_name": "Python 3.9.7 64-bit ('eo': conda)",
   "name": "python3"
  },
  "language_info": {
   "codemirror_mode": {
    "name": "ipython",
    "version": 3
   },
   "file_extension": ".py",
   "mimetype": "text/x-python",
   "name": "python",
   "nbconvert_exporter": "python",
   "pygments_lexer": "ipython3",
   "version": "3.9.7"
  }
 },
 "nbformat": 4,
 "nbformat_minor": 5
}
